{
 "cells": [
  {
   "cell_type": "code",
   "execution_count": 28,
   "id": "7139db3a",
   "metadata": {},
   "outputs": [],
   "source": [
    "import pandas as pd\n",
    "import numpy as np\n",
    "import matplotlib.pyplot as plt\n",
    "import warnings\n",
    "import seaborn as sns\n",
    "warnings.filterwarnings('ignore')"
   ]
  },
  {
   "cell_type": "markdown",
   "id": "21d36e30",
   "metadata": {},
   "source": [
    "Problem Statement: To predict the if an emoployee will be eligible for promotion based on various variables in the Data."
   ]
  },
  {
   "cell_type": "markdown",
   "id": "8c103283",
   "metadata": {},
   "source": [
    "In The Industry, Hr executives and managers spend lot of time on Normalizing the data and identifying the right person with tallents to be eligible for a promotion or a hike, and often employees feel there is a bias because it is a human decision. By peforming this kind of an model, it will elimiate the two main problems.\n",
    "\n",
    "1. The time taken to process,validate and take the decision on who will be promoted.\n",
    "\n",
    "2. The decision will be taken purely on performance metrics and we can eliminate any bias during decsion making."
   ]
  },
  {
   "cell_type": "markdown",
   "id": "ed939f4a",
   "metadata": {},
   "source": [
    "#  Part- 1 Data Understanding & Exploration"
   ]
  },
  {
   "cell_type": "code",
   "execution_count": 3,
   "id": "b6a3402a",
   "metadata": {},
   "outputs": [],
   "source": [
    "train = pd.read_csv('train.csv')\n",
    "test = pd.read_csv('test.csv')"
   ]
  },
  {
   "cell_type": "markdown",
   "id": "1f223861",
   "metadata": {},
   "source": [
    "Here we have two datasets, one is the training dataset which already has the pre-defined target variable \"is_promoted\" and other one is the testing dataset which is for testing purpose on which we need to deter mine the is_promoted column"
   ]
  },
  {
   "cell_type": "code",
   "execution_count": 6,
   "id": "abed60b9",
   "metadata": {},
   "outputs": [
    {
     "data": {
      "text/html": [
       "<div>\n",
       "<style scoped>\n",
       "    .dataframe tbody tr th:only-of-type {\n",
       "        vertical-align: middle;\n",
       "    }\n",
       "\n",
       "    .dataframe tbody tr th {\n",
       "        vertical-align: top;\n",
       "    }\n",
       "\n",
       "    .dataframe thead th {\n",
       "        text-align: right;\n",
       "    }\n",
       "</style>\n",
       "<table border=\"1\" class=\"dataframe\">\n",
       "  <thead>\n",
       "    <tr style=\"text-align: right;\">\n",
       "      <th></th>\n",
       "      <th>employee_id</th>\n",
       "      <th>department</th>\n",
       "      <th>region</th>\n",
       "      <th>education</th>\n",
       "      <th>gender</th>\n",
       "      <th>recruitment_channel</th>\n",
       "      <th>no_of_trainings</th>\n",
       "      <th>age</th>\n",
       "      <th>previous_year_rating</th>\n",
       "      <th>length_of_service</th>\n",
       "      <th>KPIs_met &gt;80%</th>\n",
       "      <th>awards_won?</th>\n",
       "      <th>avg_training_score</th>\n",
       "      <th>is_promoted</th>\n",
       "    </tr>\n",
       "  </thead>\n",
       "  <tbody>\n",
       "    <tr>\n",
       "      <th>0</th>\n",
       "      <td>65438</td>\n",
       "      <td>Sales &amp; Marketing</td>\n",
       "      <td>region_7</td>\n",
       "      <td>Master's &amp; above</td>\n",
       "      <td>f</td>\n",
       "      <td>sourcing</td>\n",
       "      <td>1</td>\n",
       "      <td>35</td>\n",
       "      <td>5.0</td>\n",
       "      <td>8</td>\n",
       "      <td>1</td>\n",
       "      <td>0</td>\n",
       "      <td>49</td>\n",
       "      <td>0</td>\n",
       "    </tr>\n",
       "    <tr>\n",
       "      <th>1</th>\n",
       "      <td>65141</td>\n",
       "      <td>Operations</td>\n",
       "      <td>region_22</td>\n",
       "      <td>Bachelor's</td>\n",
       "      <td>m</td>\n",
       "      <td>other</td>\n",
       "      <td>1</td>\n",
       "      <td>30</td>\n",
       "      <td>5.0</td>\n",
       "      <td>4</td>\n",
       "      <td>0</td>\n",
       "      <td>0</td>\n",
       "      <td>60</td>\n",
       "      <td>0</td>\n",
       "    </tr>\n",
       "  </tbody>\n",
       "</table>\n",
       "</div>"
      ],
      "text/plain": [
       "   employee_id         department     region         education gender  \\\n",
       "0        65438  Sales & Marketing   region_7  Master's & above      f   \n",
       "1        65141         Operations  region_22        Bachelor's      m   \n",
       "\n",
       "  recruitment_channel  no_of_trainings  age  previous_year_rating  \\\n",
       "0            sourcing                1   35                   5.0   \n",
       "1               other                1   30                   5.0   \n",
       "\n",
       "   length_of_service  KPIs_met >80%  awards_won?  avg_training_score  \\\n",
       "0                  8              1            0                  49   \n",
       "1                  4              0            0                  60   \n",
       "\n",
       "   is_promoted  \n",
       "0            0  \n",
       "1            0  "
      ]
     },
     "execution_count": 6,
     "metadata": {},
     "output_type": "execute_result"
    }
   ],
   "source": [
    "train.head(2)"
   ]
  },
  {
   "cell_type": "code",
   "execution_count": 7,
   "id": "9a5e73f1",
   "metadata": {},
   "outputs": [
    {
     "data": {
      "text/html": [
       "<div>\n",
       "<style scoped>\n",
       "    .dataframe tbody tr th:only-of-type {\n",
       "        vertical-align: middle;\n",
       "    }\n",
       "\n",
       "    .dataframe tbody tr th {\n",
       "        vertical-align: top;\n",
       "    }\n",
       "\n",
       "    .dataframe thead th {\n",
       "        text-align: right;\n",
       "    }\n",
       "</style>\n",
       "<table border=\"1\" class=\"dataframe\">\n",
       "  <thead>\n",
       "    <tr style=\"text-align: right;\">\n",
       "      <th></th>\n",
       "      <th>employee_id</th>\n",
       "      <th>department</th>\n",
       "      <th>region</th>\n",
       "      <th>education</th>\n",
       "      <th>gender</th>\n",
       "      <th>recruitment_channel</th>\n",
       "      <th>no_of_trainings</th>\n",
       "      <th>age</th>\n",
       "      <th>previous_year_rating</th>\n",
       "      <th>length_of_service</th>\n",
       "      <th>KPIs_met &gt;80%</th>\n",
       "      <th>awards_won?</th>\n",
       "      <th>avg_training_score</th>\n",
       "    </tr>\n",
       "  </thead>\n",
       "  <tbody>\n",
       "    <tr>\n",
       "      <th>0</th>\n",
       "      <td>8724</td>\n",
       "      <td>Technology</td>\n",
       "      <td>region_26</td>\n",
       "      <td>Bachelor's</td>\n",
       "      <td>m</td>\n",
       "      <td>sourcing</td>\n",
       "      <td>1</td>\n",
       "      <td>24</td>\n",
       "      <td>NaN</td>\n",
       "      <td>1</td>\n",
       "      <td>1</td>\n",
       "      <td>0</td>\n",
       "      <td>77</td>\n",
       "    </tr>\n",
       "    <tr>\n",
       "      <th>1</th>\n",
       "      <td>74430</td>\n",
       "      <td>HR</td>\n",
       "      <td>region_4</td>\n",
       "      <td>Bachelor's</td>\n",
       "      <td>f</td>\n",
       "      <td>other</td>\n",
       "      <td>1</td>\n",
       "      <td>31</td>\n",
       "      <td>3.0</td>\n",
       "      <td>5</td>\n",
       "      <td>0</td>\n",
       "      <td>0</td>\n",
       "      <td>51</td>\n",
       "    </tr>\n",
       "  </tbody>\n",
       "</table>\n",
       "</div>"
      ],
      "text/plain": [
       "   employee_id  department     region   education gender recruitment_channel  \\\n",
       "0         8724  Technology  region_26  Bachelor's      m            sourcing   \n",
       "1        74430          HR   region_4  Bachelor's      f               other   \n",
       "\n",
       "   no_of_trainings  age  previous_year_rating  length_of_service  \\\n",
       "0                1   24                   NaN                  1   \n",
       "1                1   31                   3.0                  5   \n",
       "\n",
       "   KPIs_met >80%  awards_won?  avg_training_score  \n",
       "0              1            0                  77  \n",
       "1              0            0                  51  "
      ]
     },
     "execution_count": 7,
     "metadata": {},
     "output_type": "execute_result"
    }
   ],
   "source": [
    "test.head(2)"
   ]
  },
  {
   "cell_type": "markdown",
   "id": "8a4ed163",
   "metadata": {},
   "source": [
    "The next Process is DATA UNDERSTANDING:\n",
    "\n",
    "I am going to do some exploratary Data Analytics to understand the different aspects of Data. We will be performing, univariate analysis, bi-variate analysis, skewness tests, variable type analysis, null value analysis with the help of some graphs and will interpret the data."
   ]
  },
  {
   "cell_type": "code",
   "execution_count": 8,
   "id": "4b54ed75",
   "metadata": {},
   "outputs": [
    {
     "data": {
      "text/plain": [
       "(54808, 14)"
      ]
     },
     "execution_count": 8,
     "metadata": {},
     "output_type": "execute_result"
    }
   ],
   "source": [
    "train.shape"
   ]
  },
  {
   "cell_type": "code",
   "execution_count": 9,
   "id": "af45920c",
   "metadata": {},
   "outputs": [
    {
     "data": {
      "text/plain": [
       "(23490, 13)"
      ]
     },
     "execution_count": 9,
     "metadata": {},
     "output_type": "execute_result"
    }
   ],
   "source": [
    "test.shape"
   ]
  },
  {
   "cell_type": "code",
   "execution_count": 11,
   "id": "810c177d",
   "metadata": {},
   "outputs": [
    {
     "data": {
      "text/plain": [
       "employee_id               int64\n",
       "department               object\n",
       "region                   object\n",
       "education                object\n",
       "gender                   object\n",
       "recruitment_channel      object\n",
       "no_of_trainings           int64\n",
       "age                       int64\n",
       "previous_year_rating    float64\n",
       "length_of_service         int64\n",
       "KPIs_met >80%             int64\n",
       "awards_won?               int64\n",
       "avg_training_score        int64\n",
       "is_promoted               int64\n",
       "dtype: object"
      ]
     },
     "execution_count": 11,
     "metadata": {},
     "output_type": "execute_result"
    }
   ],
   "source": [
    "# Looking at the data types in the train dataset\n",
    "train.dtypes"
   ]
  },
  {
   "cell_type": "code",
   "execution_count": 13,
   "id": "3b983f3e",
   "metadata": {},
   "outputs": [
    {
     "data": {
      "text/html": [
       "<div>\n",
       "<style scoped>\n",
       "    .dataframe tbody tr th:only-of-type {\n",
       "        vertical-align: middle;\n",
       "    }\n",
       "\n",
       "    .dataframe tbody tr th {\n",
       "        vertical-align: top;\n",
       "    }\n",
       "\n",
       "    .dataframe thead th {\n",
       "        text-align: right;\n",
       "    }\n",
       "</style>\n",
       "<table border=\"1\" class=\"dataframe\">\n",
       "  <thead>\n",
       "    <tr style=\"text-align: right;\">\n",
       "      <th></th>\n",
       "      <th>employee_id</th>\n",
       "      <th>no_of_trainings</th>\n",
       "      <th>age</th>\n",
       "      <th>previous_year_rating</th>\n",
       "      <th>length_of_service</th>\n",
       "      <th>KPIs_met &gt;80%</th>\n",
       "      <th>awards_won?</th>\n",
       "      <th>avg_training_score</th>\n",
       "      <th>is_promoted</th>\n",
       "    </tr>\n",
       "  </thead>\n",
       "  <tbody>\n",
       "    <tr>\n",
       "      <th>count</th>\n",
       "      <td>54808.000000</td>\n",
       "      <td>54808.000000</td>\n",
       "      <td>54808.000000</td>\n",
       "      <td>50684.000000</td>\n",
       "      <td>54808.000000</td>\n",
       "      <td>54808.000000</td>\n",
       "      <td>54808.000000</td>\n",
       "      <td>54808.000000</td>\n",
       "      <td>54808.000000</td>\n",
       "    </tr>\n",
       "    <tr>\n",
       "      <th>mean</th>\n",
       "      <td>39195.830627</td>\n",
       "      <td>1.253011</td>\n",
       "      <td>34.803915</td>\n",
       "      <td>3.329256</td>\n",
       "      <td>5.865512</td>\n",
       "      <td>0.351974</td>\n",
       "      <td>0.023172</td>\n",
       "      <td>63.386750</td>\n",
       "      <td>0.085170</td>\n",
       "    </tr>\n",
       "    <tr>\n",
       "      <th>std</th>\n",
       "      <td>22586.581449</td>\n",
       "      <td>0.609264</td>\n",
       "      <td>7.660169</td>\n",
       "      <td>1.259993</td>\n",
       "      <td>4.265094</td>\n",
       "      <td>0.477590</td>\n",
       "      <td>0.150450</td>\n",
       "      <td>13.371559</td>\n",
       "      <td>0.279137</td>\n",
       "    </tr>\n",
       "    <tr>\n",
       "      <th>min</th>\n",
       "      <td>1.000000</td>\n",
       "      <td>1.000000</td>\n",
       "      <td>20.000000</td>\n",
       "      <td>1.000000</td>\n",
       "      <td>1.000000</td>\n",
       "      <td>0.000000</td>\n",
       "      <td>0.000000</td>\n",
       "      <td>39.000000</td>\n",
       "      <td>0.000000</td>\n",
       "    </tr>\n",
       "    <tr>\n",
       "      <th>25%</th>\n",
       "      <td>19669.750000</td>\n",
       "      <td>1.000000</td>\n",
       "      <td>29.000000</td>\n",
       "      <td>3.000000</td>\n",
       "      <td>3.000000</td>\n",
       "      <td>0.000000</td>\n",
       "      <td>0.000000</td>\n",
       "      <td>51.000000</td>\n",
       "      <td>0.000000</td>\n",
       "    </tr>\n",
       "    <tr>\n",
       "      <th>50%</th>\n",
       "      <td>39225.500000</td>\n",
       "      <td>1.000000</td>\n",
       "      <td>33.000000</td>\n",
       "      <td>3.000000</td>\n",
       "      <td>5.000000</td>\n",
       "      <td>0.000000</td>\n",
       "      <td>0.000000</td>\n",
       "      <td>60.000000</td>\n",
       "      <td>0.000000</td>\n",
       "    </tr>\n",
       "    <tr>\n",
       "      <th>75%</th>\n",
       "      <td>58730.500000</td>\n",
       "      <td>1.000000</td>\n",
       "      <td>39.000000</td>\n",
       "      <td>4.000000</td>\n",
       "      <td>7.000000</td>\n",
       "      <td>1.000000</td>\n",
       "      <td>0.000000</td>\n",
       "      <td>76.000000</td>\n",
       "      <td>0.000000</td>\n",
       "    </tr>\n",
       "    <tr>\n",
       "      <th>max</th>\n",
       "      <td>78298.000000</td>\n",
       "      <td>10.000000</td>\n",
       "      <td>60.000000</td>\n",
       "      <td>5.000000</td>\n",
       "      <td>37.000000</td>\n",
       "      <td>1.000000</td>\n",
       "      <td>1.000000</td>\n",
       "      <td>99.000000</td>\n",
       "      <td>1.000000</td>\n",
       "    </tr>\n",
       "  </tbody>\n",
       "</table>\n",
       "</div>"
      ],
      "text/plain": [
       "        employee_id  no_of_trainings           age  previous_year_rating  \\\n",
       "count  54808.000000     54808.000000  54808.000000          50684.000000   \n",
       "mean   39195.830627         1.253011     34.803915              3.329256   \n",
       "std    22586.581449         0.609264      7.660169              1.259993   \n",
       "min        1.000000         1.000000     20.000000              1.000000   \n",
       "25%    19669.750000         1.000000     29.000000              3.000000   \n",
       "50%    39225.500000         1.000000     33.000000              3.000000   \n",
       "75%    58730.500000         1.000000     39.000000              4.000000   \n",
       "max    78298.000000        10.000000     60.000000              5.000000   \n",
       "\n",
       "       length_of_service  KPIs_met >80%   awards_won?  avg_training_score  \\\n",
       "count       54808.000000   54808.000000  54808.000000        54808.000000   \n",
       "mean            5.865512       0.351974      0.023172           63.386750   \n",
       "std             4.265094       0.477590      0.150450           13.371559   \n",
       "min             1.000000       0.000000      0.000000           39.000000   \n",
       "25%             3.000000       0.000000      0.000000           51.000000   \n",
       "50%             5.000000       0.000000      0.000000           60.000000   \n",
       "75%             7.000000       1.000000      0.000000           76.000000   \n",
       "max            37.000000       1.000000      1.000000           99.000000   \n",
       "\n",
       "        is_promoted  \n",
       "count  54808.000000  \n",
       "mean       0.085170  \n",
       "std        0.279137  \n",
       "min        0.000000  \n",
       "25%        0.000000  \n",
       "50%        0.000000  \n",
       "75%        0.000000  \n",
       "max        1.000000  "
      ]
     },
     "execution_count": 13,
     "metadata": {},
     "output_type": "execute_result"
    }
   ],
   "source": [
    "# Looking at the descriptive statisticts of the train data set such as the mean, median, max, min etc.\n",
    "# The describe function will only calculate the descriptive statistics properly for int and flot datatypes properly\n",
    "train.describe()"
   ]
  },
  {
   "cell_type": "code",
   "execution_count": 14,
   "id": "35df42b8",
   "metadata": {},
   "outputs": [
    {
     "data": {
      "text/plain": [
       "employee_id             54808\n",
       "department                  9\n",
       "region                     34\n",
       "education                   3\n",
       "gender                      2\n",
       "recruitment_channel         3\n",
       "no_of_trainings            10\n",
       "age                        41\n",
       "previous_year_rating        5\n",
       "length_of_service          35\n",
       "KPIs_met >80%               2\n",
       "awards_won?                 2\n",
       "avg_training_score         61\n",
       "is_promoted                 2\n",
       "dtype: int64"
      ]
     },
     "execution_count": 14,
     "metadata": {},
     "output_type": "execute_result"
    }
   ],
   "source": [
    "# Checking how many unique values are there in each column which will help to understand how many categories are tehre in the object reolated columns\n",
    "train.nunique()"
   ]
  },
  {
   "cell_type": "code",
   "execution_count": 21,
   "id": "1e56448d",
   "metadata": {},
   "outputs": [
    {
     "name": "stdout",
     "output_type": "stream",
     "text": [
      "The unique values in department are: ['Sales & Marketing' 'Operations' 'Technology' 'Analytics' 'R&D'\n",
      " 'Procurement' 'Finance' 'HR' 'Legal']\n",
      "The unique values in region are: ['region_7' 'region_22' 'region_19' 'region_23' 'region_26' 'region_2'\n",
      " 'region_20' 'region_34' 'region_1' 'region_4' 'region_29' 'region_31'\n",
      " 'region_15' 'region_14' 'region_11' 'region_5' 'region_28' 'region_17'\n",
      " 'region_13' 'region_16' 'region_25' 'region_10' 'region_27' 'region_30'\n",
      " 'region_12' 'region_21' 'region_8' 'region_32' 'region_6' 'region_33'\n",
      " 'region_24' 'region_3' 'region_9' 'region_18']\n",
      "The unique values in education are: [\"Master's & above\" \"Bachelor's\" nan 'Below Secondary']\n",
      "The unique values in gender are: ['f' 'm']\n",
      "The unique values in recruitment_channel are: ['sourcing' 'other' 'referred']\n"
     ]
    }
   ],
   "source": [
    "print(\"The unique values in department are:\",train['department'].unique())\n",
    "\n",
    "print(\"The unique values in region are:\",train['region'].unique())\n",
    "\n",
    "print(\"The unique values in education are:\",train['education'].unique())\n",
    "\n",
    "print(\"The unique values in gender are:\",train['gender'].unique())\n",
    "\n",
    "print(\"The unique values in recruitment_channel are:\",train['recruitment_channel'].unique())"
   ]
  },
  {
   "cell_type": "code",
   "execution_count": 22,
   "id": "8d92f083",
   "metadata": {},
   "outputs": [
    {
     "data": {
      "text/plain": [
       "employee_id                0\n",
       "department                 0\n",
       "region                     0\n",
       "education               2409\n",
       "gender                     0\n",
       "recruitment_channel        0\n",
       "no_of_trainings            0\n",
       "age                        0\n",
       "previous_year_rating    4124\n",
       "length_of_service          0\n",
       "KPIs_met >80%              0\n",
       "awards_won?                0\n",
       "avg_training_score         0\n",
       "is_promoted                0\n",
       "dtype: int64"
      ]
     },
     "execution_count": 22,
     "metadata": {},
     "output_type": "execute_result"
    }
   ],
   "source": [
    "# Analysing the columns to check if they have null values in it\n",
    "train.isnull().sum()"
   ]
  },
  {
   "cell_type": "markdown",
   "id": "c3b1cf55",
   "metadata": {},
   "source": [
    "Looking at the data, I can see that only two columns have null values which are education and previous_year_rating"
   ]
  },
  {
   "cell_type": "code",
   "execution_count": 23,
   "id": "3b51ec87",
   "metadata": {},
   "outputs": [
    {
     "data": {
      "text/plain": [
       "employee_id                0\n",
       "department                 0\n",
       "region                     0\n",
       "education               1034\n",
       "gender                     0\n",
       "recruitment_channel        0\n",
       "no_of_trainings            0\n",
       "age                        0\n",
       "previous_year_rating    1812\n",
       "length_of_service          0\n",
       "KPIs_met >80%              0\n",
       "awards_won?                0\n",
       "avg_training_score         0\n",
       "dtype: int64"
      ]
     },
     "execution_count": 23,
     "metadata": {},
     "output_type": "execute_result"
    }
   ],
   "source": [
    "test.isnull().sum()"
   ]
  },
  {
   "cell_type": "markdown",
   "id": "fbebdcce",
   "metadata": {},
   "source": [
    "Even the test dat has some null values in it."
   ]
  },
  {
   "cell_type": "code",
   "execution_count": 31,
   "id": "de185171",
   "metadata": {},
   "outputs": [
    {
     "data": {
      "image/png": "[encoded data removed]",
      "text/plain": [
       "<Figure size 864x576 with 1 Axes>"
      ]
     },
     "metadata": {
      "needs_background": "light"
     },
     "output_type": "display_data"
    }
   ],
   "source": [
    "plt.figure(figsize=(12,8))\n",
    "sns.distplot(train['no_of_trainings'])\n",
    "plt.show()"
   ]
  },
  {
   "cell_type": "code",
   "execution_count": 29,
   "id": "377a9e48",
   "metadata": {},
   "outputs": [
    {
     "data": {
      "image/png": "[encoded data removed]",
      "text/plain": [
       "<Figure size 864x576 with 1 Axes>"
      ]
     },
     "metadata": {
      "needs_background": "light"
     },
     "output_type": "display_data"
    }
   ],
   "source": [
    "plt.figure(figsize=(12,8))\n",
    "sns.distplot(train['age'],color='r')\n",
    "plt.show()"
   ]
  },
  {
   "cell_type": "code",
   "execution_count": 32,
   "id": "4d3bbd1f",
   "metadata": {},
   "outputs": [
    {
     "data": {
      "image/png": "[encoded data removed]",
      "text/plain": [
       "<Figure size 864x576 with 1 Axes>"
      ]
     },
     "metadata": {
      "needs_background": "light"
     },
     "output_type": "display_data"
    }
   ],
   "source": [
    "plt.figure(figsize=(12,8))\n",
    "sns.distplot(train['avg_training_score'],color='y')\n",
    "plt.show()"
   ]
  },
  {
   "cell_type": "code",
   "execution_count": 33,
   "id": "6ea3002e",
   "metadata": {},
   "outputs": [
    {
     "data": {
      "image/png": "[encoded data removed]",
      "text/plain": [
       "<Figure size 1080x1080 with 8 Axes>"
      ]
     },
     "metadata": {
      "needs_background": "light"
     },
     "output_type": "display_data"
    }
   ],
   "source": [
    "# Analysis to find if therea are any outliers in the data\n",
    "fig, axarr = plt.subplots(8, 1, figsize=(15, 15))\n",
    "\n",
    "sns.boxplot(train['employee_id'],palette='Set1',ax=axarr[0])\n",
    "sns.boxplot(train['no_of_trainings'],palette='Set2',ax=axarr[1])\n",
    "sns.boxplot(train['age'],palette='Set3',ax=axarr[2])\n",
    "sns.boxplot(train['previous_year_rating'],palette='icefire',ax=axarr[3])\n",
    "sns.boxplot(train['length_of_service'],palette='Dark2',ax=axarr[4])\n",
    "sns.boxplot(train['KPIs_met >80%'],palette='Set1',ax=axarr[5])\n",
    "sns.boxplot(train['awards_won?'],palette='plasma',ax=axarr[6])\n",
    "sns.boxplot(train['avg_training_score'],palette='Set1',ax=axarr[7])\n",
    "plt.show()"
   ]
  },
  {
   "cell_type": "code",
   "execution_count": 36,
   "id": "218c5cc4",
   "metadata": {},
   "outputs": [
    {
     "data": {
      "image/png": "[encoded data removed]",
      "text/plain": [
       "<Figure size 864x576 with 1 Axes>"
      ]
     },
     "metadata": {
      "needs_background": "light"
     },
     "output_type": "display_data"
    }
   ],
   "source": [
    "plt.figure(figsize=(12,8))\n",
    "sns.countplot(train['department'],hue=train['is_promoted'],palette='Set3')\n",
    "plt.show()"
   ]
  },
  {
   "cell_type": "code",
   "execution_count": 37,
   "id": "c0075cbe",
   "metadata": {},
   "outputs": [
    {
     "data": {
      "image/png": "[encoded data removed]",
      "text/plain": [
       "<Figure size 864x576 with 1 Axes>"
      ]
     },
     "metadata": {
      "needs_background": "light"
     },
     "output_type": "display_data"
    }
   ],
   "source": [
    "plt.figure(figsize=(12,8))\n",
    "sns.countplot(train['education'],hue=train['is_promoted'],palette='plasma')\n",
    "plt.show()"
   ]
  },
  {
   "cell_type": "code",
   "execution_count": 38,
   "id": "c8849a71",
   "metadata": {},
   "outputs": [
    {
     "data": {
      "image/png": "[encoded data removed]",
      "text/plain": [
       "<Figure size 864x432 with 1 Axes>"
      ]
     },
     "metadata": {
      "needs_background": "light"
     },
     "output_type": "display_data"
    }
   ],
   "source": [
    "plt.figure(figsize=(12,6))\n",
    "sns.countplot(train['gender'],hue=train['is_promoted'])\n",
    "plt.show()"
   ]
  },
  {
   "cell_type": "code",
   "execution_count": 39,
   "id": "f320ed4d",
   "metadata": {},
   "outputs": [
    {
     "data": {
      "image/png": "[encoded data removed]",
      "text/plain": [
       "<Figure size 864x576 with 1 Axes>"
      ]
     },
     "metadata": {
      "needs_background": "light"
     },
     "output_type": "display_data"
    }
   ],
   "source": [
    "plt.figure(figsize=(12,8))\n",
    "sns.countplot(train['recruitment_channel'],hue=train['is_promoted'],palette='YlOrRd_r')\n",
    "\n",
    "plt.show()"
   ]
  },
  {
   "cell_type": "code",
   "execution_count": 43,
   "id": "763e28df",
   "metadata": {},
   "outputs": [
    {
     "data": {
      "image/png": "[encoded data removed]",
      "text/plain": [
       "<Figure size 864x576 with 1 Axes>"
      ]
     },
     "metadata": {
      "needs_background": "light"
     },
     "output_type": "display_data"
    }
   ],
   "source": [
    "plt.figure(figsize=(12,8))\n",
    "sns.countplot(train['age'],hue=train['is_promoted'],palette='husl')\n",
    "plt.show()"
   ]
  },
  {
   "cell_type": "code",
   "execution_count": 44,
   "id": "532a78d1",
   "metadata": {},
   "outputs": [
    {
     "data": {
      "image/png": "[encoded data removed]",
      "text/plain": [
       "<Figure size 864x576 with 2 Axes>"
      ]
     },
     "metadata": {
      "needs_background": "light"
     },
     "output_type": "display_data"
    }
   ],
   "source": [
    "plt.figure(figsize=(12,8))\n",
    "sns.heatmap(train.corr())\n",
    "plt.show()"
   ]
  },
  {
   "cell_type": "code",
   "execution_count": 45,
   "id": "1000e6ac",
   "metadata": {},
   "outputs": [
    {
     "data": {
      "text/plain": [
       "array([ 5.,  3.,  1.,  4., nan,  2.])"
      ]
     },
     "execution_count": 45,
     "metadata": {},
     "output_type": "execute_result"
    }
   ],
   "source": [
    "# we need to deal with the null values before we proceed to the modelling\n",
    "# The null values are in the columns, education and previous year ratings\n",
    "train['previous_year_rating'].unique()"
   ]
  },
  {
   "cell_type": "markdown",
   "id": "0c34050c",
   "metadata": {},
   "source": [
    "Looking at the data we can see that there is no person who has 0 as the rating. So ideally the assumption is they are freshers candidates who do not have any ratings so we can mark their ratings as 0"
   ]
  },
  {
   "cell_type": "code",
   "execution_count": 50,
   "id": "868cb72a",
   "metadata": {},
   "outputs": [],
   "source": [
    "train['previous_year_rating']=train['previous_year_rating'].fillna(0.0)"
   ]
  },
  {
   "cell_type": "code",
   "execution_count": 51,
   "id": "c00c92c8",
   "metadata": {},
   "outputs": [
    {
     "data": {
      "text/plain": [
       "array([5., 3., 1., 4., 0., 2.])"
      ]
     },
     "execution_count": 51,
     "metadata": {},
     "output_type": "execute_result"
    }
   ],
   "source": [
    "train['previous_year_rating'].unique()"
   ]
  },
  {
   "cell_type": "code",
   "execution_count": 52,
   "id": "dfebc757",
   "metadata": {},
   "outputs": [
    {
     "data": {
      "text/plain": [
       "array([\"Master's & above\", \"Bachelor's\", nan, 'Below Secondary'],\n",
       "      dtype=object)"
      ]
     },
     "execution_count": 52,
     "metadata": {},
     "output_type": "execute_result"
    }
   ],
   "source": [
    "# Now lets understand how education column is having nulls\n",
    "train['education'].unique()"
   ]
  },
  {
   "cell_type": "code",
   "execution_count": 53,
   "id": "42e5e653",
   "metadata": {},
   "outputs": [],
   "source": [
    "# Since there are lot of nulls and we cannot assume the education of the employees, so I want to mark them as others\n",
    "train['education']=train['education'].fillna('Others')"
   ]
  },
  {
   "cell_type": "code",
   "execution_count": 54,
   "id": "2c299e7f",
   "metadata": {},
   "outputs": [
    {
     "data": {
      "text/plain": [
       "array([\"Master's & above\", \"Bachelor's\", 'Others', 'Below Secondary'],\n",
       "      dtype=object)"
      ]
     },
     "execution_count": 54,
     "metadata": {},
     "output_type": "execute_result"
    }
   ],
   "source": [
    "train['education'].unique()"
   ]
  },
  {
   "cell_type": "code",
   "execution_count": 56,
   "id": "b39bc391",
   "metadata": {},
   "outputs": [],
   "source": [
    "test['previous_year_rating']=test['previous_year_rating'].fillna(0.0)\n",
    "test['education']=test['education'].fillna('Others')"
   ]
  },
  {
   "cell_type": "code",
   "execution_count": 55,
   "id": "a6d49d62",
   "metadata": {},
   "outputs": [
    {
     "data": {
      "image/png": "[encoded data removed]",
      "text/plain": [
       "<Figure size 864x576 with 2 Axes>"
      ]
     },
     "metadata": {
      "needs_background": "light"
     },
     "output_type": "display_data"
    }
   ],
   "source": [
    "# I want to look at the heatmap once again after removing the null values\n",
    "plt.figure(figsize=(12,8))\n",
    "sns.heatmap(train.corr())\n",
    "plt.show()"
   ]
  },
  {
   "cell_type": "markdown",
   "id": "53089fcb",
   "metadata": {},
   "source": [
    "Ther seems to be no big change in the correlation between the columns, the only posotive correlation can be seen between the length_of_service and the age"
   ]
  },
  {
   "cell_type": "markdown",
   "id": "2214e3de",
   "metadata": {},
   "source": [
    "#  Modelling"
   ]
  },
  {
   "cell_type": "code",
   "execution_count": 57,
   "id": "807e5aac",
   "metadata": {},
   "outputs": [],
   "source": [
    "# lets first drop the columns that are not needed for the modelling purpose.\n",
    "new_train = train.drop('employee_id',1)\n",
    "new_test = test.drop('employee_id',1)"
   ]
  },
  {
   "cell_type": "code",
   "execution_count": 58,
   "id": "2d35ab3c",
   "metadata": {},
   "outputs": [],
   "source": [
    "# The next step is to prepare the data for modelling\n",
    "x=new_train.drop('is_promoted',1)\n",
    "y=new_train.is_promoted"
   ]
  },
  {
   "cell_type": "code",
   "execution_count": 59,
   "id": "4fdf0cce",
   "metadata": {},
   "outputs": [],
   "source": [
    "x=pd.get_dummies(x)"
   ]
  },
  {
   "cell_type": "code",
   "execution_count": 60,
   "id": "3b5c8d67",
   "metadata": {},
   "outputs": [],
   "source": [
    "test_var=pd.get_dummies(new_test)"
   ]
  },
  {
   "cell_type": "code",
   "execution_count": 61,
   "id": "8e58778b",
   "metadata": {},
   "outputs": [],
   "source": [
    "# importing functions from packages\n",
    "from sklearn.linear_model import LogisticRegression\n",
    "from sklearn.metrics import f1_score,recall_score,accuracy_score,confusion_matrix"
   ]
  },
  {
   "cell_type": "code",
   "execution_count": 62,
   "id": "0d76443f",
   "metadata": {},
   "outputs": [],
   "source": [
    "lg=LogisticRegression()"
   ]
  },
  {
   "cell_type": "code",
   "execution_count": 63,
   "id": "fe3b7a3a",
   "metadata": {},
   "outputs": [],
   "source": [
    "lg.fit(x,y)\n",
    "pred=lg.predict(test_var)"
   ]
  },
  {
   "cell_type": "code",
   "execution_count": 64,
   "id": "bb5c8f3d",
   "metadata": {},
   "outputs": [
    {
     "data": {
      "text/plain": [
       "0.2807608146776637"
      ]
     },
     "execution_count": 64,
     "metadata": {},
     "output_type": "execute_result"
    }
   ],
   "source": [
    "f1_score(y,lg.predict(x))"
   ]
  },
  {
   "cell_type": "code",
   "execution_count": 65,
   "id": "a316c5dc",
   "metadata": {},
   "outputs": [
    {
     "data": {
      "text/plain": [
       "0.17866323907455012"
      ]
     },
     "execution_count": 65,
     "metadata": {},
     "output_type": "execute_result"
    }
   ],
   "source": [
    "recall_score(y,lg.predict(x))"
   ]
  },
  {
   "cell_type": "code",
   "execution_count": 66,
   "id": "19f6bf7c",
   "metadata": {},
   "outputs": [
    {
     "data": {
      "text/plain": [
       "0.9220369289154868"
      ]
     },
     "execution_count": 66,
     "metadata": {},
     "output_type": "execute_result"
    }
   ],
   "source": [
    "accuracy_score(y,lg.predict(x))"
   ]
  },
  {
   "cell_type": "code",
   "execution_count": 67,
   "id": "294258b2",
   "metadata": {},
   "outputs": [
    {
     "data": {
      "text/plain": [
       "array([[49701,   439],\n",
       "       [ 3834,   834]])"
      ]
     },
     "execution_count": 67,
     "metadata": {},
     "output_type": "execute_result"
    }
   ],
   "source": [
    "confusion_matrix(y,lg.predict(x))"
   ]
  },
  {
   "cell_type": "code",
   "execution_count": 68,
   "id": "b2916452",
   "metadata": {},
   "outputs": [],
   "source": [
    "test_var['is_promoted']=pred"
   ]
  },
  {
   "cell_type": "code",
   "execution_count": 71,
   "id": "9aae3d38",
   "metadata": {},
   "outputs": [],
   "source": [
    "# The next idea is to perform kfold cross validation to find out which is the best model\n",
    "from sklearn.ensemble import RandomForestClassifier\n",
    "from sklearn.tree import DecisionTreeClassifier\n",
    "from sklearn.naive_bayes import GaussianNB\n",
    "from sklearn.ensemble import AdaBoostClassifier,BaggingClassifier,GradientBoostingClassifier\n",
    "import xgboost as xgb"
   ]
  },
  {
   "cell_type": "code",
   "execution_count": 72,
   "id": "c24135bc",
   "metadata": {},
   "outputs": [],
   "source": [
    "lr=LogisticRegression()\n",
    "dt=DecisionTreeClassifier()"
   ]
  },
  {
   "cell_type": "code",
   "execution_count": 73,
   "id": "44fc7892",
   "metadata": {},
   "outputs": [
    {
     "data": {
      "text/plain": [
       "GridSearchCV(cv=3, estimator=DecisionTreeClassifier(),\n",
       "             param_grid={'criterion': ['entropy', 'gini'],\n",
       "                         'max_depth': array([ 1,  2,  3,  4,  5,  6,  7,  8,  9, 10, 11, 12, 13, 14, 15, 16, 17,\n",
       "       18, 19, 20, 21, 22, 23, 24, 25, 26, 27, 28, 29, 30, 31, 32, 33, 34,\n",
       "       35, 36, 37, 38, 39])},\n",
       "             scoring='f1_weighted')"
      ]
     },
     "execution_count": 73,
     "metadata": {},
     "output_type": "execute_result"
    }
   ],
   "source": [
    "# To find the best parameters for the decision tree\n",
    "from sklearn.model_selection import GridSearchCV\n",
    "param={'max_depth':np.arange(1,40),'criterion':['entropy','gini']}\n",
    "Gs=GridSearchCV(dt,param,cv=3,scoring='f1_weighted')\n",
    "Gs.fit(x,y)"
   ]
  },
  {
   "cell_type": "code",
   "execution_count": 74,
   "id": "c7f99e42",
   "metadata": {},
   "outputs": [
    {
     "data": {
      "text/plain": [
       "{'criterion': 'entropy', 'max_depth': 11}"
      ]
     },
     "execution_count": 74,
     "metadata": {},
     "output_type": "execute_result"
    }
   ],
   "source": [
    "Gs.best_params_"
   ]
  },
  {
   "cell_type": "code",
   "execution_count": 75,
   "id": "01b4470e",
   "metadata": {},
   "outputs": [],
   "source": [
    "dt=DecisionTreeClassifier(max_depth=11,criterion='entropy')"
   ]
  },
  {
   "cell_type": "code",
   "execution_count": 77,
   "id": "8fa11dc0",
   "metadata": {},
   "outputs": [],
   "source": [
    "rf=RandomForestClassifier()"
   ]
  },
  {
   "cell_type": "code",
   "execution_count": 78,
   "id": "1076a3df",
   "metadata": {},
   "outputs": [
    {
     "data": {
      "text/plain": [
       "GridSearchCV(cv=3, estimator=RandomForestClassifier(),\n",
       "             param_grid={'criterion': ['entropy', 'gini'],\n",
       "                         'n_estimators': array([ 1,  2,  3,  4,  5,  6,  7,  8,  9, 10, 11, 12, 13, 14, 15, 16, 17,\n",
       "       18, 19, 20, 21, 22, 23, 24, 25, 26, 27, 28, 29, 30, 31, 32, 33, 34,\n",
       "       35, 36, 37, 38, 39])},\n",
       "             scoring='f1_weighted')"
      ]
     },
     "execution_count": 78,
     "metadata": {},
     "output_type": "execute_result"
    }
   ],
   "source": [
    "# Find the best parameters for random forest\n",
    "param={'n_estimators':np.arange(1,40),'criterion':['entropy','gini']}\n",
    "Gs=GridSearchCV(rf,param,cv=3,scoring='f1_weighted')\n",
    "Gs.fit(x,y)"
   ]
  },
  {
   "cell_type": "code",
   "execution_count": 79,
   "id": "3d019f70",
   "metadata": {},
   "outputs": [
    {
     "data": {
      "text/plain": [
       "{'criterion': 'entropy', 'n_estimators': 31}"
      ]
     },
     "execution_count": 79,
     "metadata": {},
     "output_type": "execute_result"
    }
   ],
   "source": [
    "Gs.best_params_"
   ]
  },
  {
   "cell_type": "code",
   "execution_count": 80,
   "id": "605b4e06",
   "metadata": {},
   "outputs": [],
   "source": [
    "rf=RandomForestClassifier(n_estimators=31,criterion='entropy')"
   ]
  },
  {
   "cell_type": "code",
   "execution_count": 81,
   "id": "626635a6",
   "metadata": {},
   "outputs": [],
   "source": [
    "nb=GaussianNB()"
   ]
  },
  {
   "cell_type": "code",
   "execution_count": 83,
   "id": "8388e399",
   "metadata": {},
   "outputs": [],
   "source": [
    "xgb_model=xgb.XGBClassifier()"
   ]
  },
  {
   "cell_type": "code",
   "execution_count": 84,
   "id": "ac4d2ab6",
   "metadata": {},
   "outputs": [
    {
     "name": "stdout",
     "output_type": "stream",
     "text": [
      "Fitting 3 folds for each of 27 candidates, totalling 81 fits\n"
     ]
    },
    {
     "data": {
      "text/plain": [
       "GridSearchCV(cv=3,\n",
       "             estimator=XGBClassifier(base_score=None, booster=None,\n",
       "                                     callbacks=None, colsample_bylevel=None,\n",
       "                                     colsample_bynode=None,\n",
       "                                     colsample_bytree=None,\n",
       "                                     early_stopping_rounds=None,\n",
       "                                     enable_categorical=False, eval_metric=None,\n",
       "                                     gamma=None, gpu_id=None, grow_policy=None,\n",
       "                                     importance_type=None,\n",
       "                                     interaction_constraints=None,\n",
       "                                     learning_rate=None, max_bin=None,\n",
       "                                     max_ca...\n",
       "                                     max_leaves=None, min_child_weight=None,\n",
       "                                     missing=nan, monotone_constraints=None,\n",
       "                                     n_estimators=100, n_jobs=None,\n",
       "                                     num_parallel_tree=None, predictor=None,\n",
       "                                     random_state=None, reg_alpha=None,\n",
       "                                     reg_lambda=None, ...),\n",
       "             n_jobs=2,\n",
       "             param_grid={'learning_rate': [0.01], 'max_depth': [7, 8, 9],\n",
       "                         'n_estimators': [900, 1000, 1100],\n",
       "                         'objective': ['binary:logistic'],\n",
       "                         'reg_alpha': [0.3, 0.4, 0.5]},\n",
       "             scoring='f1_weighted', verbose=True)"
      ]
     },
     "execution_count": 84,
     "metadata": {},
     "output_type": "execute_result"
    }
   ],
   "source": [
    "param={'max_depth':[7,8,9],'n_estimators':[900,1000,1100],'objective':['binary:logistic'],'reg_alpha':[0.3,0.4,0.5],'learning_rate':[0.01]}\n",
    "Gs=GridSearchCV(xgb_model,param,cv=3,scoring='f1_weighted',n_jobs=2,verbose=True)\n",
    "Gs.fit(x,y)"
   ]
  },
  {
   "cell_type": "code",
   "execution_count": 85,
   "id": "9771a616",
   "metadata": {},
   "outputs": [
    {
     "data": {
      "text/plain": [
       "{'learning_rate': 0.01,\n",
       " 'max_depth': 8,\n",
       " 'n_estimators': 1100,\n",
       " 'objective': 'binary:logistic',\n",
       " 'reg_alpha': 0.3}"
      ]
     },
     "execution_count": 85,
     "metadata": {},
     "output_type": "execute_result"
    }
   ],
   "source": [
    "Gs.best_params_"
   ]
  },
  {
   "cell_type": "code",
   "execution_count": 86,
   "id": "c4fc18ea",
   "metadata": {},
   "outputs": [],
   "source": [
    "bagdt=BaggingClassifier(base_estimator=dt,n_estimators=150,random_state=0)\n",
    "baglr=BaggingClassifier(base_estimator=lr,n_estimators=10,random_state=0)\n",
    "bagnb=BaggingClassifier(base_estimator=nb,n_estimators=10,random_state=0)\n",
    "boodt=AdaBoostClassifier(base_estimator=dt,n_estimators=80,random_state=0)\n",
    "boorf=AdaBoostClassifier(base_estimator=rf,n_estimators=50,random_state=0)\n",
    "boolr=AdaBoostClassifier(base_estimator=lr,n_estimators=50,random_state=0)\n",
    "boonb=AdaBoostClassifier(base_estimator=nb,n_estimators=50,random_state=0)\n",
    "gboost=GradientBoostingClassifier(n_estimators=700,random_state=0)\n",
    "xgb_model=xgb.XGBClassifier(learning_rate=0.01,max_depth=8,n_estimators=1100,objective='binary:logistic',reg_alpha=0.3,num_round=20)"
   ]
  },
  {
   "cell_type": "code",
   "execution_count": 87,
   "id": "5a8dd4f8",
   "metadata": {},
   "outputs": [
    {
     "name": "stdout",
     "output_type": "stream",
     "text": [
      "f1_score for class1: 0.96 (+/- 0.00000) [Logistic regression]\n",
      "f1_score for class2: 0.29 (+/- 0.00047) [Logistic regression]\n",
      "f1_score for class1: 0.97 (+/- 0.00000) [decision tree]\n",
      "f1_score for class2: 0.46 (+/- 0.00001) [decision tree]\n",
      "f1_score for class1: 0.96 (+/- 0.00000) [random forest]\n",
      "f1_score for class2: 0.41 (+/- 0.00043) [random forest]\n",
      "f1_score for class1: 0.55 (+/- 0.01648) [naive bayes]\n",
      "f1_score for class2: 0.20 (+/- 0.00014) [naive bayes]\n",
      "f1_score for class1: 0.97 (+/- 0.00000) [bagged_decision tree]\n",
      "f1_score for class2: 0.48 (+/- 0.00007) [bagged_decision tree]\n",
      "f1_score for class1: 0.96 (+/- 0.00000) [bagged_logistic regression]\n",
      "f1_score for class2: 0.28 (+/- 0.00001) [bagged_logistic regression]\n",
      "f1_score for class1: 0.52 (+/- 0.00807) [bagged_naive bayes]\n",
      "f1_score for class2: 0.19 (+/- 0.00001) [bagged_naive bayes]\n",
      "f1_score for class1: 0.96 (+/- 0.00000) [boosted_decision tree]\n",
      "f1_score for class2: 0.40 (+/- 0.00000) [boosted_decision tree]\n",
      "f1_score for class1: 0.96 (+/- 0.00000) [boosted_logistic regression]\n",
      "f1_score for class2: 0.19 (+/- 0.00001) [boosted_logistic regression]\n",
      "f1_score for class1: 0.86 (+/- 0.00103) [boosted_naive bayes]\n",
      "f1_score for class2: 0.11 (+/- 0.00013) [boosted_naive bayes]\n",
      "f1_score for class1: 0.96 (+/- 0.00000) [boosted_random forest]\n",
      "f1_score for class2: 0.28 (+/- 0.00000) [boosted_random forest]\n",
      "f1_score for class1: 0.97 (+/- 0.00000) [gradient boost]\n",
      "f1_score for class2: 0.50 (+/- 0.00009) [gradient boost]\n",
      "[01:42:36] WARNING: /Users/runner/work/xgboost/xgboost/python-package/build/temp.macosx-10.9-x86_64-3.7/xgboost/src/learner.cc:627: \n",
      "Parameters: { \"num_round\" } might not be used.\n",
      "\n",
      "  This could be a false alarm, with some parameters getting used by language bindings but\n",
      "  then being mistakenly passed down to XGBoost core, or some parameter actually being used\n",
      "  but getting flagged wrongly here. Please open an issue if you find any such cases.\n",
      "\n",
      "\n",
      "[01:43:08] WARNING: /Users/runner/work/xgboost/xgboost/python-package/build/temp.macosx-10.9-x86_64-3.7/xgboost/src/learner.cc:627: \n",
      "Parameters: { \"num_round\" } might not be used.\n",
      "\n",
      "  This could be a false alarm, with some parameters getting used by language bindings but\n",
      "  then being mistakenly passed down to XGBoost core, or some parameter actually being used\n",
      "  but getting flagged wrongly here. Please open an issue if you find any such cases.\n",
      "\n",
      "\n",
      "f1_score for class1: 0.97 (+/- 0.00000) [xgboost]\n",
      "f1_score for class2: 0.50 (+/- 0.00006) [xgboost]\n"
     ]
    }
   ],
   "source": [
    "from sklearn.model_selection import KFold\n",
    "\n",
    "kf = KFold(n_splits = 2, shuffle=True, random_state=2)\n",
    "for model, name in zip([lr,dt,rf,nb,bagdt,baglr,bagnb,boodt,boolr,boonb,boorf,gboost,xgb_model],\n",
    "                       ['Logistic regression','decision tree','random forest','naive bayes',\n",
    "                        'bagged_decision tree','bagged_logistic regression','bagged_naive bayes',\n",
    "                        'boosted_decision tree','boosted_logistic regression','boosted_naive bayes','boosted_random forest',\n",
    "                       'gradient boost','xgboost']):\n",
    "    k=0\n",
    "    recall = np.zeros((2,2))\n",
    "    prec = np.zeros((2,2))\n",
    "    fscore = np.zeros((2,2))\n",
    "    for train,test in kf.split(x,y):\n",
    "        xtrain,xtest = x.iloc[train,:],x.iloc[test,:]\n",
    "        ytrain,ytest = y[train],y[test]\n",
    "        model.fit(xtrain,ytrain)\n",
    "        y_predict= model.predict(xtest)\n",
    "        cm = confusion_matrix(ytest,y_predict)\n",
    "        for i in np.arange(0,2):\n",
    "            recall[i,k] = cm[i,i]/cm[i,:].sum()\n",
    "        for i in np.arange(0,2):\n",
    "            prec[i,k] = cm[i,i]/cm[:,i].sum()\n",
    "        k = k+1\n",
    "    for row in np.arange(0,2):\n",
    "        for col in np.arange(0,2):\n",
    "            fscore[row,col]=2*(recall[row,col]*prec[row,col])/(recall[row,col]+prec[row,col])\n",
    "    print('f1_score for class1: %0.02f (+/- %0.5f) [%s]' % (np.mean(fscore[0,:]), np.var(fscore[0,:], ddof = 1),name))\n",
    "    print('f1_score for class2: %0.02f (+/- %0.5f) [%s]' % (np.mean(fscore[1,:]), np.var(fscore[1,:], ddof = 1),name))\n",
    "\n",
    "    "
   ]
  },
  {
   "cell_type": "markdown",
   "id": "88fcf0f9",
   "metadata": {},
   "source": [
    "Looking at the score gradient boost model seems to have a good f1 score so lets build the final model using that"
   ]
  },
  {
   "cell_type": "code",
   "execution_count": 88,
   "id": "e69aa069",
   "metadata": {},
   "outputs": [],
   "source": [
    "trainingx=new_train.drop('is_promoted',1)\n",
    "labels=new_train.is_promoted\n",
    "\n",
    "trainingx=pd.get_dummies(trainingx)"
   ]
  },
  {
   "cell_type": "code",
   "execution_count": 89,
   "id": "17464e9c",
   "metadata": {},
   "outputs": [],
   "source": [
    "testingx=pd.get_dummies(new_test)"
   ]
  },
  {
   "cell_type": "code",
   "execution_count": 90,
   "id": "6691acc6",
   "metadata": {},
   "outputs": [],
   "source": [
    "model=gboost.fit(trainingx,labels)\n",
    "pred=model.predict(testingx)"
   ]
  },
  {
   "cell_type": "code",
   "execution_count": 91,
   "id": "58230b1a",
   "metadata": {},
   "outputs": [
    {
     "data": {
      "text/plain": [
       "0.9449168004670851"
      ]
     },
     "execution_count": 91,
     "metadata": {},
     "output_type": "execute_result"
    }
   ],
   "source": [
    "#training accuracy\n",
    "accuracy_score(labels,model.predict(trainingx))"
   ]
  },
  {
   "cell_type": "code",
   "execution_count": 92,
   "id": "b67ff2f1",
   "metadata": {},
   "outputs": [
    {
     "data": {
      "text/plain": [
       "0.5330239752513535"
      ]
     },
     "execution_count": 92,
     "metadata": {},
     "output_type": "execute_result"
    }
   ],
   "source": [
    "f1_score(labels,model.predict(trainingx))"
   ]
  },
  {
   "cell_type": "code",
   "execution_count": null,
   "id": "8b6ab0b2",
   "metadata": {},
   "outputs": [],
   "source": []
  }
 ],
 "metadata": {
  "kernelspec": {
   "display_name": "Python 3 (ipykernel)",
   "language": "python",
   "name": "python3"
  },
  "language_info": {
   "codemirror_mode": {
    "name": "ipython",
    "version": 3
   },
   "file_extension": ".py",
   "mimetype": "text/x-python",
   "name": "python",
   "nbconvert_exporter": "python",
   "pygments_lexer": "ipython3",
   "version": "3.9.7"
  }
 },
 "nbformat": 4,
 "nbformat_minor": 5
}
